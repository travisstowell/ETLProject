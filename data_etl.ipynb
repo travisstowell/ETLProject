{
 "cells": [
  {
   "cell_type": "code",
   "execution_count": 4,
   "metadata": {},
   "outputs": [],
   "source": [
    "import pandas as pd\n",
    "from sqlalchemy import create_engine\n",
    "from postgres_password import pass_word"
   ]
  },
  {
   "cell_type": "markdown",
   "metadata": {
    "slideshow": {
     "slide_type": "-"
    }
   },
   "source": [
    "### Store CSV into DataFrame"
   ]
  },
  {
   "cell_type": "code",
   "execution_count": 5,
   "metadata": {},
   "outputs": [
    {
     "output_type": "execute_result",
     "data": {
      "text/plain": [
       "     imdb_id                                       title  \\\n",
       "0  tt0147800                  10 Things I Hate About You   \n",
       "1  tt7019028                        101 Dalmatian Street   \n",
       "2  tt0115433                              101 Dalmatians   \n",
       "3  tt0324941  101 Dalmatians 2: Patch's London Adventure   \n",
       "4  tt0211181                              102 Dalmatians   \n",
       "\n",
       "                                                plot    type  rated   year  \\\n",
       "0  A pretty, popular teenager can't go out on a d...   movie  PG-13   1999   \n",
       "1  This series follows the lives of Delilah and D...  series    NaN  2018–   \n",
       "2  An evil high-fashion designer plots to steal D...   movie      G   1996   \n",
       "3  Being one of 101 takes its toll on Patch, who ...   movie      G   2002   \n",
       "4  Cruella DeVil gets out of prison and goes afte...   movie      G   2000   \n",
       "\n",
       "   released_at           added_at  runtime  \\\n",
       "0  31 Mar 1999  November 12, 2019   97 min   \n",
       "1  25 Mar 2019  February 28, 2020      NaN   \n",
       "2  27 Nov 1996  November 12, 2019  103 min   \n",
       "3  21 Jan 2003  November 12, 2019   74 min   \n",
       "4  22 Nov 2000  November 12, 2019  100 min   \n",
       "\n",
       "                                           genre                   director  \\\n",
       "0                         Comedy, Drama, Romance                 Gil Junger   \n",
       "1                      Animation, Comedy, Family                        NaN   \n",
       "2               Adventure, Comedy, Crime, Family              Stephen Herek   \n",
       "3  Animation, Adventure, Comedy, Family, Musical  Jim Kammerud, Brian Smith   \n",
       "4                      Adventure, Comedy, Family                 Kevin Lima   \n",
       "\n",
       "                                              writer  \\\n",
       "0                      Karen McCullah, Kirsten Smith   \n",
       "1                                                NaN   \n",
       "2      Dodie Smith (novel), John Hughes (screenplay)   \n",
       "3  Jim Kammerud (story), Dan Root (story), Garret...   \n",
       "4  Dodie Smith (novel), Kristen Buckley (story), ...   \n",
       "\n",
       "                                              actors          language  \\\n",
       "0  Heath Ledger, Julia Stiles, Joseph Gordon-Levi...   English, French   \n",
       "1  Josh Brener, Michaela Dietz, Bert Davis, Abiga...           English   \n",
       "2  Glenn Close, Jeff Daniels, Joely Richardson, J...  English, Spanish   \n",
       "3  Barry Bostwick, Jason Alexander, Martin Short,...           English   \n",
       "4  Glenn Close, Gérard Depardieu, Ioan Gruffudd, ...           English   \n",
       "\n",
       "           country                                             awards  \\\n",
       "0              USA                           2 wins & 13 nominations.   \n",
       "1  UK, USA, Canada                                                NaN   \n",
       "2          USA, UK  Nominated for 1 Golden Globe. Another 3 wins &...   \n",
       "3              USA                           5 wins & 10 nominations.   \n",
       "4          USA, UK  Nominated for 1 Oscar. Another 1 win & 7 nomin...   \n",
       "\n",
       "   metascore  imdb_rating imdb_votes  \n",
       "0       70.0          7.3    283,945  \n",
       "1        NaN          6.2        124  \n",
       "2       49.0          5.7     97,785  \n",
       "3        NaN          5.8      7,434  \n",
       "4       35.0          4.9     33,444  "
      ],
      "text/html": "<div>\n<style scoped>\n    .dataframe tbody tr th:only-of-type {\n        vertical-align: middle;\n    }\n\n    .dataframe tbody tr th {\n        vertical-align: top;\n    }\n\n    .dataframe thead th {\n        text-align: right;\n    }\n</style>\n<table border=\"1\" class=\"dataframe\">\n  <thead>\n    <tr style=\"text-align: right;\">\n      <th></th>\n      <th>imdb_id</th>\n      <th>title</th>\n      <th>plot</th>\n      <th>type</th>\n      <th>rated</th>\n      <th>year</th>\n      <th>released_at</th>\n      <th>added_at</th>\n      <th>runtime</th>\n      <th>genre</th>\n      <th>director</th>\n      <th>writer</th>\n      <th>actors</th>\n      <th>language</th>\n      <th>country</th>\n      <th>awards</th>\n      <th>metascore</th>\n      <th>imdb_rating</th>\n      <th>imdb_votes</th>\n    </tr>\n  </thead>\n  <tbody>\n    <tr>\n      <th>0</th>\n      <td>tt0147800</td>\n      <td>10 Things I Hate About You</td>\n      <td>A pretty, popular teenager can't go out on a d...</td>\n      <td>movie</td>\n      <td>PG-13</td>\n      <td>1999</td>\n      <td>31 Mar 1999</td>\n      <td>November 12, 2019</td>\n      <td>97 min</td>\n      <td>Comedy, Drama, Romance</td>\n      <td>Gil Junger</td>\n      <td>Karen McCullah, Kirsten Smith</td>\n      <td>Heath Ledger, Julia Stiles, Joseph Gordon-Levi...</td>\n      <td>English, French</td>\n      <td>USA</td>\n      <td>2 wins &amp; 13 nominations.</td>\n      <td>70.0</td>\n      <td>7.3</td>\n      <td>283,945</td>\n    </tr>\n    <tr>\n      <th>1</th>\n      <td>tt7019028</td>\n      <td>101 Dalmatian Street</td>\n      <td>This series follows the lives of Delilah and D...</td>\n      <td>series</td>\n      <td>NaN</td>\n      <td>2018–</td>\n      <td>25 Mar 2019</td>\n      <td>February 28, 2020</td>\n      <td>NaN</td>\n      <td>Animation, Comedy, Family</td>\n      <td>NaN</td>\n      <td>NaN</td>\n      <td>Josh Brener, Michaela Dietz, Bert Davis, Abiga...</td>\n      <td>English</td>\n      <td>UK, USA, Canada</td>\n      <td>NaN</td>\n      <td>NaN</td>\n      <td>6.2</td>\n      <td>124</td>\n    </tr>\n    <tr>\n      <th>2</th>\n      <td>tt0115433</td>\n      <td>101 Dalmatians</td>\n      <td>An evil high-fashion designer plots to steal D...</td>\n      <td>movie</td>\n      <td>G</td>\n      <td>1996</td>\n      <td>27 Nov 1996</td>\n      <td>November 12, 2019</td>\n      <td>103 min</td>\n      <td>Adventure, Comedy, Crime, Family</td>\n      <td>Stephen Herek</td>\n      <td>Dodie Smith (novel), John Hughes (screenplay)</td>\n      <td>Glenn Close, Jeff Daniels, Joely Richardson, J...</td>\n      <td>English, Spanish</td>\n      <td>USA, UK</td>\n      <td>Nominated for 1 Golden Globe. Another 3 wins &amp;...</td>\n      <td>49.0</td>\n      <td>5.7</td>\n      <td>97,785</td>\n    </tr>\n    <tr>\n      <th>3</th>\n      <td>tt0324941</td>\n      <td>101 Dalmatians 2: Patch's London Adventure</td>\n      <td>Being one of 101 takes its toll on Patch, who ...</td>\n      <td>movie</td>\n      <td>G</td>\n      <td>2002</td>\n      <td>21 Jan 2003</td>\n      <td>November 12, 2019</td>\n      <td>74 min</td>\n      <td>Animation, Adventure, Comedy, Family, Musical</td>\n      <td>Jim Kammerud, Brian Smith</td>\n      <td>Jim Kammerud (story), Dan Root (story), Garret...</td>\n      <td>Barry Bostwick, Jason Alexander, Martin Short,...</td>\n      <td>English</td>\n      <td>USA</td>\n      <td>5 wins &amp; 10 nominations.</td>\n      <td>NaN</td>\n      <td>5.8</td>\n      <td>7,434</td>\n    </tr>\n    <tr>\n      <th>4</th>\n      <td>tt0211181</td>\n      <td>102 Dalmatians</td>\n      <td>Cruella DeVil gets out of prison and goes afte...</td>\n      <td>movie</td>\n      <td>G</td>\n      <td>2000</td>\n      <td>22 Nov 2000</td>\n      <td>November 12, 2019</td>\n      <td>100 min</td>\n      <td>Adventure, Comedy, Family</td>\n      <td>Kevin Lima</td>\n      <td>Dodie Smith (novel), Kristen Buckley (story), ...</td>\n      <td>Glenn Close, Gérard Depardieu, Ioan Gruffudd, ...</td>\n      <td>English</td>\n      <td>USA, UK</td>\n      <td>Nominated for 1 Oscar. Another 1 win &amp; 7 nomin...</td>\n      <td>35.0</td>\n      <td>4.9</td>\n      <td>33,444</td>\n    </tr>\n  </tbody>\n</table>\n</div>"
     },
     "metadata": {},
     "execution_count": 5
    }
   ],
   "source": [
    "csv_file = \"Datasets/disney_plus_shows.csv\"\n",
    "disney_df = pd.read_csv(csv_file)\n",
    "disney_df.head()"
   ]
  },
  {
   "cell_type": "code",
   "execution_count": 6,
   "metadata": {},
   "outputs": [
    {
     "output_type": "execute_result",
     "data": {
      "text/plain": [
       "  imdb_title_id  weighted_average_vote  total_votes  mean_vote  median_vote  \\\n",
       "0     tt0000009                    5.9          154        5.9          6.0   \n",
       "1     tt0000574                    6.1          589        6.3          6.0   \n",
       "2     tt0001892                    5.8          188        6.0          6.0   \n",
       "3     tt0002101                    5.2          446        5.3          5.0   \n",
       "4     tt0002130                    7.0         2237        6.9          7.0   \n",
       "\n",
       "   votes_10  votes_9  votes_8  votes_7  votes_6  ...  females_30age_avg_vote  \\\n",
       "0        12        4       10       43       28  ...                     5.7   \n",
       "1        57       18       58      137      139  ...                     6.2   \n",
       "2         6        6       17       44       52  ...                     5.8   \n",
       "3        15        8       16       62       98  ...                     5.5   \n",
       "4       210      225      436      641      344  ...                     7.3   \n",
       "\n",
       "   females_30age_votes  females_45age_avg_vote  females_45age_votes  \\\n",
       "0                 13.0                     4.5                  4.0   \n",
       "1                 23.0                     6.6                 14.0   \n",
       "2                  4.0                     6.8                  7.0   \n",
       "3                 14.0                     6.1                 21.0   \n",
       "4                 82.0                     7.4                 77.0   \n",
       "\n",
       "   top1000_voters_rating  top1000_voters_votes  us_voters_rating  \\\n",
       "0                    5.7                  34.0               6.4   \n",
       "1                    6.4                  66.0               6.0   \n",
       "2                    5.4                  32.0               6.2   \n",
       "3                    4.9                  57.0               5.5   \n",
       "4                    6.9                 139.0               7.0   \n",
       "\n",
       "   us_voters_votes  non_us_voters_rating  non_us_voters_votes  \n",
       "0             51.0                   6.0                 70.0  \n",
       "1             96.0                   6.2                331.0  \n",
       "2             31.0                   5.9                123.0  \n",
       "3            207.0                   4.7                105.0  \n",
       "4            488.0                   7.0               1166.0  \n",
       "\n",
       "[5 rows x 49 columns]"
      ],
      "text/html": "<div>\n<style scoped>\n    .dataframe tbody tr th:only-of-type {\n        vertical-align: middle;\n    }\n\n    .dataframe tbody tr th {\n        vertical-align: top;\n    }\n\n    .dataframe thead th {\n        text-align: right;\n    }\n</style>\n<table border=\"1\" class=\"dataframe\">\n  <thead>\n    <tr style=\"text-align: right;\">\n      <th></th>\n      <th>imdb_title_id</th>\n      <th>weighted_average_vote</th>\n      <th>total_votes</th>\n      <th>mean_vote</th>\n      <th>median_vote</th>\n      <th>votes_10</th>\n      <th>votes_9</th>\n      <th>votes_8</th>\n      <th>votes_7</th>\n      <th>votes_6</th>\n      <th>...</th>\n      <th>females_30age_avg_vote</th>\n      <th>females_30age_votes</th>\n      <th>females_45age_avg_vote</th>\n      <th>females_45age_votes</th>\n      <th>top1000_voters_rating</th>\n      <th>top1000_voters_votes</th>\n      <th>us_voters_rating</th>\n      <th>us_voters_votes</th>\n      <th>non_us_voters_rating</th>\n      <th>non_us_voters_votes</th>\n    </tr>\n  </thead>\n  <tbody>\n    <tr>\n      <th>0</th>\n      <td>tt0000009</td>\n      <td>5.9</td>\n      <td>154</td>\n      <td>5.9</td>\n      <td>6.0</td>\n      <td>12</td>\n      <td>4</td>\n      <td>10</td>\n      <td>43</td>\n      <td>28</td>\n      <td>...</td>\n      <td>5.7</td>\n      <td>13.0</td>\n      <td>4.5</td>\n      <td>4.0</td>\n      <td>5.7</td>\n      <td>34.0</td>\n      <td>6.4</td>\n      <td>51.0</td>\n      <td>6.0</td>\n      <td>70.0</td>\n    </tr>\n    <tr>\n      <th>1</th>\n      <td>tt0000574</td>\n      <td>6.1</td>\n      <td>589</td>\n      <td>6.3</td>\n      <td>6.0</td>\n      <td>57</td>\n      <td>18</td>\n      <td>58</td>\n      <td>137</td>\n      <td>139</td>\n      <td>...</td>\n      <td>6.2</td>\n      <td>23.0</td>\n      <td>6.6</td>\n      <td>14.0</td>\n      <td>6.4</td>\n      <td>66.0</td>\n      <td>6.0</td>\n      <td>96.0</td>\n      <td>6.2</td>\n      <td>331.0</td>\n    </tr>\n    <tr>\n      <th>2</th>\n      <td>tt0001892</td>\n      <td>5.8</td>\n      <td>188</td>\n      <td>6.0</td>\n      <td>6.0</td>\n      <td>6</td>\n      <td>6</td>\n      <td>17</td>\n      <td>44</td>\n      <td>52</td>\n      <td>...</td>\n      <td>5.8</td>\n      <td>4.0</td>\n      <td>6.8</td>\n      <td>7.0</td>\n      <td>5.4</td>\n      <td>32.0</td>\n      <td>6.2</td>\n      <td>31.0</td>\n      <td>5.9</td>\n      <td>123.0</td>\n    </tr>\n    <tr>\n      <th>3</th>\n      <td>tt0002101</td>\n      <td>5.2</td>\n      <td>446</td>\n      <td>5.3</td>\n      <td>5.0</td>\n      <td>15</td>\n      <td>8</td>\n      <td>16</td>\n      <td>62</td>\n      <td>98</td>\n      <td>...</td>\n      <td>5.5</td>\n      <td>14.0</td>\n      <td>6.1</td>\n      <td>21.0</td>\n      <td>4.9</td>\n      <td>57.0</td>\n      <td>5.5</td>\n      <td>207.0</td>\n      <td>4.7</td>\n      <td>105.0</td>\n    </tr>\n    <tr>\n      <th>4</th>\n      <td>tt0002130</td>\n      <td>7.0</td>\n      <td>2237</td>\n      <td>6.9</td>\n      <td>7.0</td>\n      <td>210</td>\n      <td>225</td>\n      <td>436</td>\n      <td>641</td>\n      <td>344</td>\n      <td>...</td>\n      <td>7.3</td>\n      <td>82.0</td>\n      <td>7.4</td>\n      <td>77.0</td>\n      <td>6.9</td>\n      <td>139.0</td>\n      <td>7.0</td>\n      <td>488.0</td>\n      <td>7.0</td>\n      <td>1166.0</td>\n    </tr>\n  </tbody>\n</table>\n<p>5 rows × 49 columns</p>\n</div>"
     },
     "metadata": {},
     "execution_count": 6
    }
   ],
   "source": [
    "csv_file = \"Datasets/IMDB ratings.csv\"\n",
    "imdb_df = pd.read_csv(csv_file)\n",
    "imdb_df.head()"
   ]
  },
  {
   "cell_type": "markdown",
   "metadata": {},
   "source": [
    "### Create new data with select columns"
   ]
  },
  {
   "cell_type": "code",
   "execution_count": 7,
   "metadata": {},
   "outputs": [
    {
     "output_type": "stream",
     "name": "stdout",
     "text": [
      "992\n"
     ]
    },
    {
     "output_type": "execute_result",
     "data": {
      "text/plain": [
       "     imdb_id                                       title    type  rated  \\\n",
       "0  tt0147800                  10 Things I Hate About You   movie  PG-13   \n",
       "1  tt7019028                        101 Dalmatian Street  series    NaN   \n",
       "2  tt0115433                              101 Dalmatians   movie      G   \n",
       "3  tt0324941  101 Dalmatians 2: Patch's London Adventure   movie      G   \n",
       "4  tt0211181                              102 Dalmatians   movie      G   \n",
       "\n",
       "    year                                          genre  \n",
       "0   1999                         Comedy, Drama, Romance  \n",
       "1  2018–                      Animation, Comedy, Family  \n",
       "2   1996               Adventure, Comedy, Crime, Family  \n",
       "3   2002  Animation, Adventure, Comedy, Family, Musical  \n",
       "4   2000                      Adventure, Comedy, Family  "
      ],
      "text/html": "<div>\n<style scoped>\n    .dataframe tbody tr th:only-of-type {\n        vertical-align: middle;\n    }\n\n    .dataframe tbody tr th {\n        vertical-align: top;\n    }\n\n    .dataframe thead th {\n        text-align: right;\n    }\n</style>\n<table border=\"1\" class=\"dataframe\">\n  <thead>\n    <tr style=\"text-align: right;\">\n      <th></th>\n      <th>imdb_id</th>\n      <th>title</th>\n      <th>type</th>\n      <th>rated</th>\n      <th>year</th>\n      <th>genre</th>\n    </tr>\n  </thead>\n  <tbody>\n    <tr>\n      <th>0</th>\n      <td>tt0147800</td>\n      <td>10 Things I Hate About You</td>\n      <td>movie</td>\n      <td>PG-13</td>\n      <td>1999</td>\n      <td>Comedy, Drama, Romance</td>\n    </tr>\n    <tr>\n      <th>1</th>\n      <td>tt7019028</td>\n      <td>101 Dalmatian Street</td>\n      <td>series</td>\n      <td>NaN</td>\n      <td>2018–</td>\n      <td>Animation, Comedy, Family</td>\n    </tr>\n    <tr>\n      <th>2</th>\n      <td>tt0115433</td>\n      <td>101 Dalmatians</td>\n      <td>movie</td>\n      <td>G</td>\n      <td>1996</td>\n      <td>Adventure, Comedy, Crime, Family</td>\n    </tr>\n    <tr>\n      <th>3</th>\n      <td>tt0324941</td>\n      <td>101 Dalmatians 2: Patch's London Adventure</td>\n      <td>movie</td>\n      <td>G</td>\n      <td>2002</td>\n      <td>Animation, Adventure, Comedy, Family, Musical</td>\n    </tr>\n    <tr>\n      <th>4</th>\n      <td>tt0211181</td>\n      <td>102 Dalmatians</td>\n      <td>movie</td>\n      <td>G</td>\n      <td>2000</td>\n      <td>Adventure, Comedy, Family</td>\n    </tr>\n  </tbody>\n</table>\n</div>"
     },
     "metadata": {},
     "execution_count": 7
    }
   ],
   "source": [
    "new_disney_df = disney_df[['imdb_id', 'title', 'type','rated','year','genre']].copy()\n",
    "print(len(new_disney_df))\n",
    "new_disney_df.head()"
   ]
  },
  {
   "cell_type": "code",
   "execution_count": 8,
   "metadata": {},
   "outputs": [
    {
     "output_type": "stream",
     "name": "stdout",
     "text": [
      "85855\n"
     ]
    },
    {
     "output_type": "execute_result",
     "data": {
      "text/plain": [
       "  imdb_title_id  males_allages_avg_vote  males_0age_avg_vote  \\\n",
       "0     tt0000009                     6.2                  7.0   \n",
       "1     tt0000574                     6.1                  6.0   \n",
       "2     tt0001892                     5.9                  NaN   \n",
       "3     tt0002101                     5.1                  NaN   \n",
       "4     tt0002130                     7.0                  8.0   \n",
       "\n",
       "   males_18age_avg_vote  males_30age_avg_vote  males_45age_avg_vote  \\\n",
       "0                   5.9                   5.6                   6.7   \n",
       "1                   6.2                   6.0                   6.2   \n",
       "2                   5.5                   5.9                   6.2   \n",
       "3                   5.2                   4.9                   5.2   \n",
       "4                   7.0                   7.0                   7.0   \n",
       "\n",
       "   females_allages_avg_vote  females_0age_avg_vote  females_18age_avg_vote  \\\n",
       "0                       6.0                    7.3                     5.9   \n",
       "1                       6.2                    NaN                     5.9   \n",
       "2                       5.7                    NaN                     5.8   \n",
       "3                       5.9                    NaN                     5.7   \n",
       "4                       7.2                    7.0                     7.0   \n",
       "\n",
       "   females_30age_avg_vote  females_45age_avg_vote  \n",
       "0                     5.7                     4.5  \n",
       "1                     6.2                     6.6  \n",
       "2                     5.8                     6.8  \n",
       "3                     5.5                     6.1  \n",
       "4                     7.3                     7.4  "
      ],
      "text/html": "<div>\n<style scoped>\n    .dataframe tbody tr th:only-of-type {\n        vertical-align: middle;\n    }\n\n    .dataframe tbody tr th {\n        vertical-align: top;\n    }\n\n    .dataframe thead th {\n        text-align: right;\n    }\n</style>\n<table border=\"1\" class=\"dataframe\">\n  <thead>\n    <tr style=\"text-align: right;\">\n      <th></th>\n      <th>imdb_title_id</th>\n      <th>males_allages_avg_vote</th>\n      <th>males_0age_avg_vote</th>\n      <th>males_18age_avg_vote</th>\n      <th>males_30age_avg_vote</th>\n      <th>males_45age_avg_vote</th>\n      <th>females_allages_avg_vote</th>\n      <th>females_0age_avg_vote</th>\n      <th>females_18age_avg_vote</th>\n      <th>females_30age_avg_vote</th>\n      <th>females_45age_avg_vote</th>\n    </tr>\n  </thead>\n  <tbody>\n    <tr>\n      <th>0</th>\n      <td>tt0000009</td>\n      <td>6.2</td>\n      <td>7.0</td>\n      <td>5.9</td>\n      <td>5.6</td>\n      <td>6.7</td>\n      <td>6.0</td>\n      <td>7.3</td>\n      <td>5.9</td>\n      <td>5.7</td>\n      <td>4.5</td>\n    </tr>\n    <tr>\n      <th>1</th>\n      <td>tt0000574</td>\n      <td>6.1</td>\n      <td>6.0</td>\n      <td>6.2</td>\n      <td>6.0</td>\n      <td>6.2</td>\n      <td>6.2</td>\n      <td>NaN</td>\n      <td>5.9</td>\n      <td>6.2</td>\n      <td>6.6</td>\n    </tr>\n    <tr>\n      <th>2</th>\n      <td>tt0001892</td>\n      <td>5.9</td>\n      <td>NaN</td>\n      <td>5.5</td>\n      <td>5.9</td>\n      <td>6.2</td>\n      <td>5.7</td>\n      <td>NaN</td>\n      <td>5.8</td>\n      <td>5.8</td>\n      <td>6.8</td>\n    </tr>\n    <tr>\n      <th>3</th>\n      <td>tt0002101</td>\n      <td>5.1</td>\n      <td>NaN</td>\n      <td>5.2</td>\n      <td>4.9</td>\n      <td>5.2</td>\n      <td>5.9</td>\n      <td>NaN</td>\n      <td>5.7</td>\n      <td>5.5</td>\n      <td>6.1</td>\n    </tr>\n    <tr>\n      <th>4</th>\n      <td>tt0002130</td>\n      <td>7.0</td>\n      <td>8.0</td>\n      <td>7.0</td>\n      <td>7.0</td>\n      <td>7.0</td>\n      <td>7.2</td>\n      <td>7.0</td>\n      <td>7.0</td>\n      <td>7.3</td>\n      <td>7.4</td>\n    </tr>\n  </tbody>\n</table>\n</div>"
     },
     "metadata": {},
     "execution_count": 8
    }
   ],
   "source": [
    "new_imdb_df = imdb_df[['imdb_title_id', 'males_allages_avg_vote','males_0age_avg_vote','males_18age_avg_vote','males_30age_avg_vote','males_45age_avg_vote','females_allages_avg_vote','females_0age_avg_vote','females_18age_avg_vote','females_30age_avg_vote','females_45age_avg_vote']].copy()\n",
    "print(len(new_imdb_df))\n",
    "new_imdb_df.head()\n"
   ]
  },
  {
   "source": [
    "### Clean up disney and imdb dataFrame"
   ],
   "cell_type": "markdown",
   "metadata": {}
  },
  {
   "cell_type": "code",
   "execution_count": 9,
   "metadata": {},
   "outputs": [
    {
     "output_type": "stream",
     "name": "stdout",
     "text": [
      "742\n"
     ]
    },
    {
     "output_type": "execute_result",
     "data": {
      "text/plain": [
       "     imdb_id                                       title   type  rated  year  \\\n",
       "0  tt0147800                  10 Things I Hate About You  movie  PG-13  1999   \n",
       "2  tt0115433                              101 Dalmatians  movie      G  1996   \n",
       "3  tt0324941  101 Dalmatians 2: Patch's London Adventure  movie      G  2002   \n",
       "4  tt0211181                              102 Dalmatians  movie      G  2000   \n",
       "5  tt1846442                       12 Dates of Christmas  movie     PG  2011   \n",
       "\n",
       "                                           genre  \n",
       "0                         Comedy, Drama, Romance  \n",
       "2               Adventure, Comedy, Crime, Family  \n",
       "3  Animation, Adventure, Comedy, Family, Musical  \n",
       "4                      Adventure, Comedy, Family  \n",
       "5                       Comedy, Fantasy, Romance  "
      ],
      "text/html": "<div>\n<style scoped>\n    .dataframe tbody tr th:only-of-type {\n        vertical-align: middle;\n    }\n\n    .dataframe tbody tr th {\n        vertical-align: top;\n    }\n\n    .dataframe thead th {\n        text-align: right;\n    }\n</style>\n<table border=\"1\" class=\"dataframe\">\n  <thead>\n    <tr style=\"text-align: right;\">\n      <th></th>\n      <th>imdb_id</th>\n      <th>title</th>\n      <th>type</th>\n      <th>rated</th>\n      <th>year</th>\n      <th>genre</th>\n    </tr>\n  </thead>\n  <tbody>\n    <tr>\n      <th>0</th>\n      <td>tt0147800</td>\n      <td>10 Things I Hate About You</td>\n      <td>movie</td>\n      <td>PG-13</td>\n      <td>1999</td>\n      <td>Comedy, Drama, Romance</td>\n    </tr>\n    <tr>\n      <th>2</th>\n      <td>tt0115433</td>\n      <td>101 Dalmatians</td>\n      <td>movie</td>\n      <td>G</td>\n      <td>1996</td>\n      <td>Adventure, Comedy, Crime, Family</td>\n    </tr>\n    <tr>\n      <th>3</th>\n      <td>tt0324941</td>\n      <td>101 Dalmatians 2: Patch's London Adventure</td>\n      <td>movie</td>\n      <td>G</td>\n      <td>2002</td>\n      <td>Animation, Adventure, Comedy, Family, Musical</td>\n    </tr>\n    <tr>\n      <th>4</th>\n      <td>tt0211181</td>\n      <td>102 Dalmatians</td>\n      <td>movie</td>\n      <td>G</td>\n      <td>2000</td>\n      <td>Adventure, Comedy, Family</td>\n    </tr>\n    <tr>\n      <th>5</th>\n      <td>tt1846442</td>\n      <td>12 Dates of Christmas</td>\n      <td>movie</td>\n      <td>PG</td>\n      <td>2011</td>\n      <td>Comedy, Fantasy, Romance</td>\n    </tr>\n  </tbody>\n</table>\n</div>"
     },
     "metadata": {},
     "execution_count": 9
    }
   ],
   "source": [
    "new_disney_data_df = new_disney_df.dropna()\n",
    "print(len(new_disney_data_df))\n",
    "\n",
    "new_disney_data_df.head()"
   ]
  },
  {
   "cell_type": "code",
   "execution_count": 21,
   "metadata": {},
   "outputs": [
    {
     "output_type": "stream",
     "name": "stdout",
     "text": [
      "16993\n"
     ]
    },
    {
     "output_type": "execute_result",
     "data": {
      "text/plain": [
       "   imdb_title_id  males_allages_avg_vote  males_avg_vote_0_18  \\\n",
       "0      tt0000009                     6.2                  7.0   \n",
       "4      tt0002130                     7.0                  8.0   \n",
       "24     tt0003740                     7.1                  6.0   \n",
       "47     tt0004972                     6.4                  4.7   \n",
       "55     tt0005680                     5.9                  5.0   \n",
       "\n",
       "    males_avg_vote_18_30  males_avg_vote_30_45  males_avg_vote_45_above  \\\n",
       "0                    5.9                   5.6                      6.7   \n",
       "4                    7.0                   7.0                      7.0   \n",
       "24                   7.0                   7.0                      7.3   \n",
       "47                   6.1                   6.4                      6.8   \n",
       "55                   5.8                   5.8                      6.0   \n",
       "\n",
       "    females_allages_avg_vote  females_avg_vote_0_18  females_avg_vote_18_30  \\\n",
       "0                        6.0                    7.3                     5.9   \n",
       "4                        7.2                    7.0                     7.0   \n",
       "24                       6.9                    6.0                     6.8   \n",
       "47                       5.7                    6.0                     5.4   \n",
       "55                       5.9                    5.0                     5.5   \n",
       "\n",
       "    females_avg_vote_30_45  females_avg_vote_45_above  \n",
       "0                      5.7                        4.5  \n",
       "4                      7.3                        7.4  \n",
       "24                     6.9                        6.8  \n",
       "47                     5.8                        5.9  \n",
       "55                     6.5                        6.2  "
      ],
      "text/html": "<div>\n<style scoped>\n    .dataframe tbody tr th:only-of-type {\n        vertical-align: middle;\n    }\n\n    .dataframe tbody tr th {\n        vertical-align: top;\n    }\n\n    .dataframe thead th {\n        text-align: right;\n    }\n</style>\n<table border=\"1\" class=\"dataframe\">\n  <thead>\n    <tr style=\"text-align: right;\">\n      <th></th>\n      <th>imdb_title_id</th>\n      <th>males_allages_avg_vote</th>\n      <th>males_avg_vote_0_18</th>\n      <th>males_avg_vote_18_30</th>\n      <th>males_avg_vote_30_45</th>\n      <th>males_avg_vote_45_above</th>\n      <th>females_allages_avg_vote</th>\n      <th>females_avg_vote_0_18</th>\n      <th>females_avg_vote_18_30</th>\n      <th>females_avg_vote_30_45</th>\n      <th>females_avg_vote_45_above</th>\n    </tr>\n  </thead>\n  <tbody>\n    <tr>\n      <th>0</th>\n      <td>tt0000009</td>\n      <td>6.2</td>\n      <td>7.0</td>\n      <td>5.9</td>\n      <td>5.6</td>\n      <td>6.7</td>\n      <td>6.0</td>\n      <td>7.3</td>\n      <td>5.9</td>\n      <td>5.7</td>\n      <td>4.5</td>\n    </tr>\n    <tr>\n      <th>4</th>\n      <td>tt0002130</td>\n      <td>7.0</td>\n      <td>8.0</td>\n      <td>7.0</td>\n      <td>7.0</td>\n      <td>7.0</td>\n      <td>7.2</td>\n      <td>7.0</td>\n      <td>7.0</td>\n      <td>7.3</td>\n      <td>7.4</td>\n    </tr>\n    <tr>\n      <th>24</th>\n      <td>tt0003740</td>\n      <td>7.1</td>\n      <td>6.0</td>\n      <td>7.0</td>\n      <td>7.0</td>\n      <td>7.3</td>\n      <td>6.9</td>\n      <td>6.0</td>\n      <td>6.8</td>\n      <td>6.9</td>\n      <td>6.8</td>\n    </tr>\n    <tr>\n      <th>47</th>\n      <td>tt0004972</td>\n      <td>6.4</td>\n      <td>4.7</td>\n      <td>6.1</td>\n      <td>6.4</td>\n      <td>6.8</td>\n      <td>5.7</td>\n      <td>6.0</td>\n      <td>5.4</td>\n      <td>5.8</td>\n      <td>5.9</td>\n    </tr>\n    <tr>\n      <th>55</th>\n      <td>tt0005680</td>\n      <td>5.9</td>\n      <td>5.0</td>\n      <td>5.8</td>\n      <td>5.8</td>\n      <td>6.0</td>\n      <td>5.9</td>\n      <td>5.0</td>\n      <td>5.5</td>\n      <td>6.5</td>\n      <td>6.2</td>\n    </tr>\n  </tbody>\n</table>\n</div>"
     },
     "metadata": {},
     "execution_count": 21
    }
   ],
   "source": [
    "new_imdb_data_df = new_imdb_df.dropna()\n",
    "print(len(new_imdb_data_df))\n",
    "new_imdb_data_df=new_imdb_data_df.rename(columns={'males_0age_avg_vote':'males_avg_vote_0_18','males_18age_avg_vote':'males_avg_vote_18_30','males_30age_avg_vote':'males_avg_vote_30_45','males_45age_avg_vote':'males_avg_vote_45_above','females_0age_avg_vote':'females_avg_vote_0_18','females_18age_avg_vote':'females_avg_vote_18_30','females_30age_avg_vote':'females_avg_vote_30_45','females_45age_avg_vote':'females_avg_vote_45_above'})\n",
    "new_imdb_data_df.head()"
   ]
  },
  {
   "cell_type": "markdown",
   "metadata": {},
   "source": [
    "### Connect to local database"
   ]
  },
  {
   "cell_type": "code",
   "execution_count": 11,
   "metadata": {},
   "outputs": [],
   "source": [
    "\n",
    "rds_connection_string = f\"postgres:{pass_word}@localhost:5432/disney_imdb_db\"\n",
    "engine = create_engine(f'postgresql://{rds_connection_string}')"
   ]
  },
  {
   "cell_type": "markdown",
   "metadata": {},
   "source": [
    "### Check for tables"
   ]
  },
  {
   "cell_type": "code",
   "execution_count": 17,
   "metadata": {},
   "outputs": [
    {
     "output_type": "execute_result",
     "data": {
      "text/plain": [
       "['disney_plus_info', 'imdb_ratings']"
      ]
     },
     "metadata": {},
     "execution_count": 17
    }
   ],
   "source": [
    "engine.table_names()"
   ]
  },
  {
   "cell_type": "markdown",
   "metadata": {},
   "source": [
    "### Use pandas to load csv converted DataFrame into database"
   ]
  },
  {
   "cell_type": "code",
   "execution_count": 19,
   "metadata": {},
   "outputs": [],
   "source": [
    "new_disney_data_df.to_sql(name='disney_plus_info', con=engine, if_exists='append', index=False)"
   ]
  },
  {
   "cell_type": "markdown",
   "metadata": {},
   "source": [
    "### Use pandas to load json converted DataFrame into database"
   ]
  },
  {
   "cell_type": "code",
   "execution_count": 20,
   "metadata": {},
   "outputs": [
    {
     "output_type": "error",
     "ename": "ProgrammingError",
     "evalue": "(psycopg2.errors.UndefinedColumn) column \"MaleAllAgesVote\" of relation \"imdb_ratings\" does not exist\nLINE 1: INSERT INTO imdb_ratings (imdb_title_id, \"MaleAllAgesVote\", ...\n                                                 ^\n\n[SQL: INSERT INTO imdb_ratings (imdb_title_id, \"MaleAllAgesVote\", \"MaleAvgVote0_18\", \"MaleAvgVote18_30\", \"MaleAvgVote30_45\", \"MaleAvgVote45_above\", \"FemalesAllAgesVote\", \"FemalesAvgVote0_18\", \"FemalesAvgVote18_30\", \"FemalesAvgVote30_45\", \"FemalesAvgVote45_above\") VALUES (%(imdb_title_id)s, %(MaleAllAgesVote)s, %(MaleAvgVote0_18)s, %(MaleAvgVote18_30)s, %(MaleAvgVote30_45)s, %(MaleAvgVote45_above)s, %(FemalesAllAgesVote)s, %(FemalesAvgVote0_18)s, %(FemalesAvgVote18_30)s, %(FemalesAvgVote30_45)s, %(FemalesAvgVote45_above)s)]\n[parameters: ({'imdb_title_id': 'tt0000009', 'MaleAllAgesVote': 6.2, 'MaleAvgVote0_18': 7.0, 'MaleAvgVote18_30': 5.9, 'MaleAvgVote30_45': 5.6, 'MaleAvgVote45_above': 6.7, 'FemalesAllAgesVote': 6.0, 'FemalesAvgVote0_18': 7.3, 'FemalesAvgVote18_30': 5.9, 'FemalesAvgVote30_45': 5.7, 'FemalesAvgVote45_above': 4.5}, {'imdb_title_id': 'tt0002130', 'MaleAllAgesVote': 7.0, 'MaleAvgVote0_18': 8.0, 'MaleAvgVote18_30': 7.0, 'MaleAvgVote30_45': 7.0, 'MaleAvgVote45_above': 7.0, 'FemalesAllAgesVote': 7.2, 'FemalesAvgVote0_18': 7.0, 'FemalesAvgVote18_30': 7.0, 'FemalesAvgVote30_45': 7.3, 'FemalesAvgVote45_above': 7.4}, {'imdb_title_id': 'tt0003740', 'MaleAllAgesVote': 7.1, 'MaleAvgVote0_18': 6.0, 'MaleAvgVote18_30': 7.0, 'MaleAvgVote30_45': 7.0, 'MaleAvgVote45_above': 7.3, 'FemalesAllAgesVote': 6.9, 'FemalesAvgVote0_18': 6.0, 'FemalesAvgVote18_30': 6.8, 'FemalesAvgVote30_45': 6.9, 'FemalesAvgVote45_above': 6.8}, {'imdb_title_id': 'tt0004972', 'MaleAllAgesVote': 6.4, 'MaleAvgVote0_18': 4.7, 'MaleAvgVote18_30': 6.1, 'MaleAvgVote30_45': 6.4, 'MaleAvgVote45_above': 6.8, 'FemalesAllAgesVote': 5.7, 'FemalesAvgVote0_18': 6.0, 'FemalesAvgVote18_30': 5.4, 'FemalesAvgVote30_45': 5.8, 'FemalesAvgVote45_above': 5.9}, {'imdb_title_id': 'tt0005680', 'MaleAllAgesVote': 5.9, 'MaleAvgVote0_18': 5.0, 'MaleAvgVote18_30': 5.8, 'MaleAvgVote30_45': 5.8, 'MaleAvgVote45_above': 6.0, 'FemalesAllAgesVote': 5.9, 'FemalesAvgVote0_18': 5.0, 'FemalesAvgVote18_30': 5.5, 'FemalesAvgVote30_45': 6.5, 'FemalesAvgVote45_above': 6.2}, {'imdb_title_id': 'tt0006206', 'MaleAllAgesVote': 7.3, 'MaleAvgVote0_18': 6.8, 'MaleAvgVote18_30': 7.1, 'MaleAvgVote30_45': 7.3, 'MaleAvgVote45_above': 7.3, 'FemalesAllAgesVote': 7.2, 'FemalesAvgVote0_18': 4.0, 'FemalesAvgVote18_30': 6.9, 'FemalesAvgVote30_45': 7.1, 'FemalesAvgVote45_above': 7.7}, {'imdb_title_id': 'tt0006864', 'MaleAllAgesVote': 7.8, 'MaleAvgVote0_18': 8.0, 'MaleAvgVote18_30': 7.9, 'MaleAvgVote30_45': 7.7, 'MaleAvgVote45_above': 7.8, 'FemalesAllAgesVote': 7.5, 'FemalesAvgVote0_18': 7.0, 'FemalesAvgVote18_30': 7.2, 'FemalesAvgVote30_45': 7.4, 'FemalesAvgVote45_above': 8.0}, {'imdb_title_id': 'tt0009611', 'MaleAllAgesVote': 7.3, 'MaleAvgVote0_18': 4.7, 'MaleAvgVote18_30': 7.3, 'MaleAvgVote30_45': 7.3, 'MaleAvgVote45_above': 7.3, 'FemalesAllAgesVote': 7.4, 'FemalesAvgVote0_18': 6.0, 'FemalesAvgVote18_30': 7.4, 'FemalesAvgVote30_45': 7.3, 'FemalesAvgVote45_above': 7.6}  ... displaying 10 of 16993 total bound parameter sets ...  {'imdb_title_id': 'tt9894394', 'MaleAllAgesVote': 7.4, 'MaleAvgVote0_18': 8.6, 'MaleAvgVote18_30': 6.3, 'MaleAvgVote30_45': 8.1, 'MaleAvgVote45_above': 2.6, 'FemalesAllAgesVote': 6.8, 'FemalesAvgVote0_18': 10.0, 'FemalesAvgVote18_30': 6.1, 'FemalesAvgVote30_45': 9.6, 'FemalesAvgVote45_above': 4.8}, {'imdb_title_id': 'tt9898858', 'MaleAllAgesVote': 5.1, 'MaleAvgVote0_18': 5.1, 'MaleAvgVote18_30': 5.1, 'MaleAvgVote30_45': 5.1, 'MaleAvgVote45_above': 4.9, 'FemalesAllAgesVote': 5.1, 'FemalesAvgVote0_18': 6.0, 'FemalesAvgVote18_30': 5.4, 'FemalesAvgVote30_45': 5.0, 'FemalesAvgVote45_above': 5.0})]\n(Background on this error at: http://sqlalche.me/e/f405)",
     "traceback": [
      "\u001b[1;31m---------------------------------------------------------------------------\u001b[0m",
      "\u001b[1;31mUndefinedColumn\u001b[0m                           Traceback (most recent call last)",
      "\u001b[1;32m~\\anaconda3\\lib\\site-packages\\sqlalchemy\\engine\\base.py\u001b[0m in \u001b[0;36m_execute_context\u001b[1;34m(self, dialect, constructor, statement, parameters, *args)\u001b[0m\n\u001b[0;32m   1225\u001b[0m                     self.dialect.do_executemany(\n\u001b[1;32m-> 1226\u001b[1;33m                         \u001b[0mcursor\u001b[0m\u001b[1;33m,\u001b[0m \u001b[0mstatement\u001b[0m\u001b[1;33m,\u001b[0m \u001b[0mparameters\u001b[0m\u001b[1;33m,\u001b[0m \u001b[0mcontext\u001b[0m\u001b[1;33m\u001b[0m\u001b[1;33m\u001b[0m\u001b[0m\n\u001b[0m\u001b[0;32m   1227\u001b[0m                     )\n",
      "\u001b[1;32m~\\anaconda3\\lib\\site-packages\\sqlalchemy\\dialects\\postgresql\\psycopg2.py\u001b[0m in \u001b[0;36mdo_executemany\u001b[1;34m(self, cursor, statement, parameters, context)\u001b[0m\n\u001b[0;32m    853\u001b[0m         \u001b[1;32mif\u001b[0m \u001b[0mself\u001b[0m\u001b[1;33m.\u001b[0m\u001b[0mexecutemany_mode\u001b[0m \u001b[1;32mis\u001b[0m \u001b[0mEXECUTEMANY_DEFAULT\u001b[0m\u001b[1;33m:\u001b[0m\u001b[1;33m\u001b[0m\u001b[1;33m\u001b[0m\u001b[0m\n\u001b[1;32m--> 854\u001b[1;33m             \u001b[0mcursor\u001b[0m\u001b[1;33m.\u001b[0m\u001b[0mexecutemany\u001b[0m\u001b[1;33m(\u001b[0m\u001b[0mstatement\u001b[0m\u001b[1;33m,\u001b[0m \u001b[0mparameters\u001b[0m\u001b[1;33m)\u001b[0m\u001b[1;33m\u001b[0m\u001b[1;33m\u001b[0m\u001b[0m\n\u001b[0m\u001b[0;32m    855\u001b[0m             \u001b[1;32mreturn\u001b[0m\u001b[1;33m\u001b[0m\u001b[1;33m\u001b[0m\u001b[0m\n",
      "\u001b[1;31mUndefinedColumn\u001b[0m: column \"MaleAllAgesVote\" of relation \"imdb_ratings\" does not exist\nLINE 1: INSERT INTO imdb_ratings (imdb_title_id, \"MaleAllAgesVote\", ...\n                                                 ^\n",
      "\nThe above exception was the direct cause of the following exception:\n",
      "\u001b[1;31mProgrammingError\u001b[0m                          Traceback (most recent call last)",
      "\u001b[1;32m<ipython-input-20-07ae752729a5>\u001b[0m in \u001b[0;36m<module>\u001b[1;34m\u001b[0m\n\u001b[1;32m----> 1\u001b[1;33m \u001b[0mnew_imdb_data_df\u001b[0m\u001b[1;33m.\u001b[0m\u001b[0mto_sql\u001b[0m\u001b[1;33m(\u001b[0m\u001b[0mname\u001b[0m\u001b[1;33m=\u001b[0m\u001b[1;34m'imdb_ratings'\u001b[0m\u001b[1;33m,\u001b[0m \u001b[0mcon\u001b[0m\u001b[1;33m=\u001b[0m\u001b[0mengine\u001b[0m\u001b[1;33m,\u001b[0m \u001b[0mif_exists\u001b[0m\u001b[1;33m=\u001b[0m\u001b[1;34m'append'\u001b[0m\u001b[1;33m,\u001b[0m \u001b[0mindex\u001b[0m\u001b[1;33m=\u001b[0m\u001b[1;32mFalse\u001b[0m\u001b[1;33m)\u001b[0m\u001b[1;33m\u001b[0m\u001b[1;33m\u001b[0m\u001b[0m\n\u001b[0m",
      "\u001b[1;32m~\\anaconda3\\lib\\site-packages\\pandas\\core\\generic.py\u001b[0m in \u001b[0;36mto_sql\u001b[1;34m(self, name, con, schema, if_exists, index, index_label, chunksize, dtype, method)\u001b[0m\n\u001b[0;32m   2661\u001b[0m             \u001b[0mchunksize\u001b[0m\u001b[1;33m=\u001b[0m\u001b[0mchunksize\u001b[0m\u001b[1;33m,\u001b[0m\u001b[1;33m\u001b[0m\u001b[1;33m\u001b[0m\u001b[0m\n\u001b[0;32m   2662\u001b[0m             \u001b[0mdtype\u001b[0m\u001b[1;33m=\u001b[0m\u001b[0mdtype\u001b[0m\u001b[1;33m,\u001b[0m\u001b[1;33m\u001b[0m\u001b[1;33m\u001b[0m\u001b[0m\n\u001b[1;32m-> 2663\u001b[1;33m             \u001b[0mmethod\u001b[0m\u001b[1;33m=\u001b[0m\u001b[0mmethod\u001b[0m\u001b[1;33m,\u001b[0m\u001b[1;33m\u001b[0m\u001b[1;33m\u001b[0m\u001b[0m\n\u001b[0m\u001b[0;32m   2664\u001b[0m         )\n\u001b[0;32m   2665\u001b[0m \u001b[1;33m\u001b[0m\u001b[0m\n",
      "\u001b[1;32m~\\anaconda3\\lib\\site-packages\\pandas\\io\\sql.py\u001b[0m in \u001b[0;36mto_sql\u001b[1;34m(frame, name, con, schema, if_exists, index, index_label, chunksize, dtype, method)\u001b[0m\n\u001b[0;32m    519\u001b[0m         \u001b[0mchunksize\u001b[0m\u001b[1;33m=\u001b[0m\u001b[0mchunksize\u001b[0m\u001b[1;33m,\u001b[0m\u001b[1;33m\u001b[0m\u001b[1;33m\u001b[0m\u001b[0m\n\u001b[0;32m    520\u001b[0m         \u001b[0mdtype\u001b[0m\u001b[1;33m=\u001b[0m\u001b[0mdtype\u001b[0m\u001b[1;33m,\u001b[0m\u001b[1;33m\u001b[0m\u001b[1;33m\u001b[0m\u001b[0m\n\u001b[1;32m--> 521\u001b[1;33m         \u001b[0mmethod\u001b[0m\u001b[1;33m=\u001b[0m\u001b[0mmethod\u001b[0m\u001b[1;33m,\u001b[0m\u001b[1;33m\u001b[0m\u001b[1;33m\u001b[0m\u001b[0m\n\u001b[0m\u001b[0;32m    522\u001b[0m     )\n\u001b[0;32m    523\u001b[0m \u001b[1;33m\u001b[0m\u001b[0m\n",
      "\u001b[1;32m~\\anaconda3\\lib\\site-packages\\pandas\\io\\sql.py\u001b[0m in \u001b[0;36mto_sql\u001b[1;34m(self, frame, name, if_exists, index, index_label, schema, chunksize, dtype, method)\u001b[0m\n\u001b[0;32m   1315\u001b[0m         )\n\u001b[0;32m   1316\u001b[0m         \u001b[0mtable\u001b[0m\u001b[1;33m.\u001b[0m\u001b[0mcreate\u001b[0m\u001b[1;33m(\u001b[0m\u001b[1;33m)\u001b[0m\u001b[1;33m\u001b[0m\u001b[1;33m\u001b[0m\u001b[0m\n\u001b[1;32m-> 1317\u001b[1;33m         \u001b[0mtable\u001b[0m\u001b[1;33m.\u001b[0m\u001b[0minsert\u001b[0m\u001b[1;33m(\u001b[0m\u001b[0mchunksize\u001b[0m\u001b[1;33m,\u001b[0m \u001b[0mmethod\u001b[0m\u001b[1;33m=\u001b[0m\u001b[0mmethod\u001b[0m\u001b[1;33m)\u001b[0m\u001b[1;33m\u001b[0m\u001b[1;33m\u001b[0m\u001b[0m\n\u001b[0m\u001b[0;32m   1318\u001b[0m         \u001b[1;32mif\u001b[0m \u001b[1;32mnot\u001b[0m \u001b[0mname\u001b[0m\u001b[1;33m.\u001b[0m\u001b[0misdigit\u001b[0m\u001b[1;33m(\u001b[0m\u001b[1;33m)\u001b[0m \u001b[1;32mand\u001b[0m \u001b[1;32mnot\u001b[0m \u001b[0mname\u001b[0m\u001b[1;33m.\u001b[0m\u001b[0mislower\u001b[0m\u001b[1;33m(\u001b[0m\u001b[1;33m)\u001b[0m\u001b[1;33m:\u001b[0m\u001b[1;33m\u001b[0m\u001b[1;33m\u001b[0m\u001b[0m\n\u001b[0;32m   1319\u001b[0m             \u001b[1;31m# check for potentially case sensitivity issues (GH7815)\u001b[0m\u001b[1;33m\u001b[0m\u001b[1;33m\u001b[0m\u001b[1;33m\u001b[0m\u001b[0m\n",
      "\u001b[1;32m~\\anaconda3\\lib\\site-packages\\pandas\\io\\sql.py\u001b[0m in \u001b[0;36minsert\u001b[1;34m(self, chunksize, method)\u001b[0m\n\u001b[0;32m    753\u001b[0m \u001b[1;33m\u001b[0m\u001b[0m\n\u001b[0;32m    754\u001b[0m                 \u001b[0mchunk_iter\u001b[0m \u001b[1;33m=\u001b[0m \u001b[0mzip\u001b[0m\u001b[1;33m(\u001b[0m\u001b[1;33m*\u001b[0m\u001b[1;33m[\u001b[0m\u001b[0marr\u001b[0m\u001b[1;33m[\u001b[0m\u001b[0mstart_i\u001b[0m\u001b[1;33m:\u001b[0m\u001b[0mend_i\u001b[0m\u001b[1;33m]\u001b[0m \u001b[1;32mfor\u001b[0m \u001b[0marr\u001b[0m \u001b[1;32min\u001b[0m \u001b[0mdata_list\u001b[0m\u001b[1;33m]\u001b[0m\u001b[1;33m)\u001b[0m\u001b[1;33m\u001b[0m\u001b[1;33m\u001b[0m\u001b[0m\n\u001b[1;32m--> 755\u001b[1;33m                 \u001b[0mexec_insert\u001b[0m\u001b[1;33m(\u001b[0m\u001b[0mconn\u001b[0m\u001b[1;33m,\u001b[0m \u001b[0mkeys\u001b[0m\u001b[1;33m,\u001b[0m \u001b[0mchunk_iter\u001b[0m\u001b[1;33m)\u001b[0m\u001b[1;33m\u001b[0m\u001b[1;33m\u001b[0m\u001b[0m\n\u001b[0m\u001b[0;32m    756\u001b[0m \u001b[1;33m\u001b[0m\u001b[0m\n\u001b[0;32m    757\u001b[0m     def _query_iterator(\n",
      "\u001b[1;32m~\\anaconda3\\lib\\site-packages\\pandas\\io\\sql.py\u001b[0m in \u001b[0;36m_execute_insert\u001b[1;34m(self, conn, keys, data_iter)\u001b[0m\n\u001b[0;32m    667\u001b[0m         \"\"\"\n\u001b[0;32m    668\u001b[0m         \u001b[0mdata\u001b[0m \u001b[1;33m=\u001b[0m \u001b[1;33m[\u001b[0m\u001b[0mdict\u001b[0m\u001b[1;33m(\u001b[0m\u001b[0mzip\u001b[0m\u001b[1;33m(\u001b[0m\u001b[0mkeys\u001b[0m\u001b[1;33m,\u001b[0m \u001b[0mrow\u001b[0m\u001b[1;33m)\u001b[0m\u001b[1;33m)\u001b[0m \u001b[1;32mfor\u001b[0m \u001b[0mrow\u001b[0m \u001b[1;32min\u001b[0m \u001b[0mdata_iter\u001b[0m\u001b[1;33m]\u001b[0m\u001b[1;33m\u001b[0m\u001b[1;33m\u001b[0m\u001b[0m\n\u001b[1;32m--> 669\u001b[1;33m         \u001b[0mconn\u001b[0m\u001b[1;33m.\u001b[0m\u001b[0mexecute\u001b[0m\u001b[1;33m(\u001b[0m\u001b[0mself\u001b[0m\u001b[1;33m.\u001b[0m\u001b[0mtable\u001b[0m\u001b[1;33m.\u001b[0m\u001b[0minsert\u001b[0m\u001b[1;33m(\u001b[0m\u001b[1;33m)\u001b[0m\u001b[1;33m,\u001b[0m \u001b[0mdata\u001b[0m\u001b[1;33m)\u001b[0m\u001b[1;33m\u001b[0m\u001b[1;33m\u001b[0m\u001b[0m\n\u001b[0m\u001b[0;32m    670\u001b[0m \u001b[1;33m\u001b[0m\u001b[0m\n\u001b[0;32m    671\u001b[0m     \u001b[1;32mdef\u001b[0m \u001b[0m_execute_insert_multi\u001b[0m\u001b[1;33m(\u001b[0m\u001b[0mself\u001b[0m\u001b[1;33m,\u001b[0m \u001b[0mconn\u001b[0m\u001b[1;33m,\u001b[0m \u001b[0mkeys\u001b[0m\u001b[1;33m,\u001b[0m \u001b[0mdata_iter\u001b[0m\u001b[1;33m)\u001b[0m\u001b[1;33m:\u001b[0m\u001b[1;33m\u001b[0m\u001b[1;33m\u001b[0m\u001b[0m\n",
      "\u001b[1;32m~\\anaconda3\\lib\\site-packages\\sqlalchemy\\engine\\base.py\u001b[0m in \u001b[0;36mexecute\u001b[1;34m(self, object_, *multiparams, **params)\u001b[0m\n\u001b[0;32m    980\u001b[0m             \u001b[1;32mraise\u001b[0m \u001b[0mexc\u001b[0m\u001b[1;33m.\u001b[0m\u001b[0mObjectNotExecutableError\u001b[0m\u001b[1;33m(\u001b[0m\u001b[0mobject_\u001b[0m\u001b[1;33m)\u001b[0m\u001b[1;33m\u001b[0m\u001b[1;33m\u001b[0m\u001b[0m\n\u001b[0;32m    981\u001b[0m         \u001b[1;32melse\u001b[0m\u001b[1;33m:\u001b[0m\u001b[1;33m\u001b[0m\u001b[1;33m\u001b[0m\u001b[0m\n\u001b[1;32m--> 982\u001b[1;33m             \u001b[1;32mreturn\u001b[0m \u001b[0mmeth\u001b[0m\u001b[1;33m(\u001b[0m\u001b[0mself\u001b[0m\u001b[1;33m,\u001b[0m \u001b[0mmultiparams\u001b[0m\u001b[1;33m,\u001b[0m \u001b[0mparams\u001b[0m\u001b[1;33m)\u001b[0m\u001b[1;33m\u001b[0m\u001b[1;33m\u001b[0m\u001b[0m\n\u001b[0m\u001b[0;32m    983\u001b[0m \u001b[1;33m\u001b[0m\u001b[0m\n\u001b[0;32m    984\u001b[0m     \u001b[1;32mdef\u001b[0m \u001b[0m_execute_function\u001b[0m\u001b[1;33m(\u001b[0m\u001b[0mself\u001b[0m\u001b[1;33m,\u001b[0m \u001b[0mfunc\u001b[0m\u001b[1;33m,\u001b[0m \u001b[0mmultiparams\u001b[0m\u001b[1;33m,\u001b[0m \u001b[0mparams\u001b[0m\u001b[1;33m)\u001b[0m\u001b[1;33m:\u001b[0m\u001b[1;33m\u001b[0m\u001b[1;33m\u001b[0m\u001b[0m\n",
      "\u001b[1;32m~\\anaconda3\\lib\\site-packages\\sqlalchemy\\sql\\elements.py\u001b[0m in \u001b[0;36m_execute_on_connection\u001b[1;34m(self, connection, multiparams, params)\u001b[0m\n\u001b[0;32m    291\u001b[0m     \u001b[1;32mdef\u001b[0m \u001b[0m_execute_on_connection\u001b[0m\u001b[1;33m(\u001b[0m\u001b[0mself\u001b[0m\u001b[1;33m,\u001b[0m \u001b[0mconnection\u001b[0m\u001b[1;33m,\u001b[0m \u001b[0mmultiparams\u001b[0m\u001b[1;33m,\u001b[0m \u001b[0mparams\u001b[0m\u001b[1;33m)\u001b[0m\u001b[1;33m:\u001b[0m\u001b[1;33m\u001b[0m\u001b[1;33m\u001b[0m\u001b[0m\n\u001b[0;32m    292\u001b[0m         \u001b[1;32mif\u001b[0m \u001b[0mself\u001b[0m\u001b[1;33m.\u001b[0m\u001b[0msupports_execution\u001b[0m\u001b[1;33m:\u001b[0m\u001b[1;33m\u001b[0m\u001b[1;33m\u001b[0m\u001b[0m\n\u001b[1;32m--> 293\u001b[1;33m             \u001b[1;32mreturn\u001b[0m \u001b[0mconnection\u001b[0m\u001b[1;33m.\u001b[0m\u001b[0m_execute_clauseelement\u001b[0m\u001b[1;33m(\u001b[0m\u001b[0mself\u001b[0m\u001b[1;33m,\u001b[0m \u001b[0mmultiparams\u001b[0m\u001b[1;33m,\u001b[0m \u001b[0mparams\u001b[0m\u001b[1;33m)\u001b[0m\u001b[1;33m\u001b[0m\u001b[1;33m\u001b[0m\u001b[0m\n\u001b[0m\u001b[0;32m    294\u001b[0m         \u001b[1;32melse\u001b[0m\u001b[1;33m:\u001b[0m\u001b[1;33m\u001b[0m\u001b[1;33m\u001b[0m\u001b[0m\n\u001b[0;32m    295\u001b[0m             \u001b[1;32mraise\u001b[0m \u001b[0mexc\u001b[0m\u001b[1;33m.\u001b[0m\u001b[0mObjectNotExecutableError\u001b[0m\u001b[1;33m(\u001b[0m\u001b[0mself\u001b[0m\u001b[1;33m)\u001b[0m\u001b[1;33m\u001b[0m\u001b[1;33m\u001b[0m\u001b[0m\n",
      "\u001b[1;32m~\\anaconda3\\lib\\site-packages\\sqlalchemy\\engine\\base.py\u001b[0m in \u001b[0;36m_execute_clauseelement\u001b[1;34m(self, elem, multiparams, params)\u001b[0m\n\u001b[0;32m   1099\u001b[0m             \u001b[0mdistilled_params\u001b[0m\u001b[1;33m,\u001b[0m\u001b[1;33m\u001b[0m\u001b[1;33m\u001b[0m\u001b[0m\n\u001b[0;32m   1100\u001b[0m             \u001b[0mcompiled_sql\u001b[0m\u001b[1;33m,\u001b[0m\u001b[1;33m\u001b[0m\u001b[1;33m\u001b[0m\u001b[0m\n\u001b[1;32m-> 1101\u001b[1;33m             \u001b[0mdistilled_params\u001b[0m\u001b[1;33m,\u001b[0m\u001b[1;33m\u001b[0m\u001b[1;33m\u001b[0m\u001b[0m\n\u001b[0m\u001b[0;32m   1102\u001b[0m         )\n\u001b[0;32m   1103\u001b[0m         \u001b[1;32mif\u001b[0m \u001b[0mself\u001b[0m\u001b[1;33m.\u001b[0m\u001b[0m_has_events\u001b[0m \u001b[1;32mor\u001b[0m \u001b[0mself\u001b[0m\u001b[1;33m.\u001b[0m\u001b[0mengine\u001b[0m\u001b[1;33m.\u001b[0m\u001b[0m_has_events\u001b[0m\u001b[1;33m:\u001b[0m\u001b[1;33m\u001b[0m\u001b[1;33m\u001b[0m\u001b[0m\n",
      "\u001b[1;32m~\\anaconda3\\lib\\site-packages\\sqlalchemy\\engine\\base.py\u001b[0m in \u001b[0;36m_execute_context\u001b[1;34m(self, dialect, constructor, statement, parameters, *args)\u001b[0m\n\u001b[0;32m   1248\u001b[0m         \u001b[1;32mexcept\u001b[0m \u001b[0mBaseException\u001b[0m \u001b[1;32mas\u001b[0m \u001b[0me\u001b[0m\u001b[1;33m:\u001b[0m\u001b[1;33m\u001b[0m\u001b[1;33m\u001b[0m\u001b[0m\n\u001b[0;32m   1249\u001b[0m             self._handle_dbapi_exception(\n\u001b[1;32m-> 1250\u001b[1;33m                 \u001b[0me\u001b[0m\u001b[1;33m,\u001b[0m \u001b[0mstatement\u001b[0m\u001b[1;33m,\u001b[0m \u001b[0mparameters\u001b[0m\u001b[1;33m,\u001b[0m \u001b[0mcursor\u001b[0m\u001b[1;33m,\u001b[0m \u001b[0mcontext\u001b[0m\u001b[1;33m\u001b[0m\u001b[1;33m\u001b[0m\u001b[0m\n\u001b[0m\u001b[0;32m   1251\u001b[0m             )\n\u001b[0;32m   1252\u001b[0m \u001b[1;33m\u001b[0m\u001b[0m\n",
      "\u001b[1;32m~\\anaconda3\\lib\\site-packages\\sqlalchemy\\engine\\base.py\u001b[0m in \u001b[0;36m_handle_dbapi_exception\u001b[1;34m(self, e, statement, parameters, cursor, context)\u001b[0m\n\u001b[0;32m   1474\u001b[0m                 \u001b[0mutil\u001b[0m\u001b[1;33m.\u001b[0m\u001b[0mraise_from_cause\u001b[0m\u001b[1;33m(\u001b[0m\u001b[0mnewraise\u001b[0m\u001b[1;33m,\u001b[0m \u001b[0mexc_info\u001b[0m\u001b[1;33m)\u001b[0m\u001b[1;33m\u001b[0m\u001b[1;33m\u001b[0m\u001b[0m\n\u001b[0;32m   1475\u001b[0m             \u001b[1;32melif\u001b[0m \u001b[0mshould_wrap\u001b[0m\u001b[1;33m:\u001b[0m\u001b[1;33m\u001b[0m\u001b[1;33m\u001b[0m\u001b[0m\n\u001b[1;32m-> 1476\u001b[1;33m                 \u001b[0mutil\u001b[0m\u001b[1;33m.\u001b[0m\u001b[0mraise_from_cause\u001b[0m\u001b[1;33m(\u001b[0m\u001b[0msqlalchemy_exception\u001b[0m\u001b[1;33m,\u001b[0m \u001b[0mexc_info\u001b[0m\u001b[1;33m)\u001b[0m\u001b[1;33m\u001b[0m\u001b[1;33m\u001b[0m\u001b[0m\n\u001b[0m\u001b[0;32m   1477\u001b[0m             \u001b[1;32melse\u001b[0m\u001b[1;33m:\u001b[0m\u001b[1;33m\u001b[0m\u001b[1;33m\u001b[0m\u001b[0m\n\u001b[0;32m   1478\u001b[0m                 \u001b[0mutil\u001b[0m\u001b[1;33m.\u001b[0m\u001b[0mreraise\u001b[0m\u001b[1;33m(\u001b[0m\u001b[1;33m*\u001b[0m\u001b[0mexc_info\u001b[0m\u001b[1;33m)\u001b[0m\u001b[1;33m\u001b[0m\u001b[1;33m\u001b[0m\u001b[0m\n",
      "\u001b[1;32m~\\anaconda3\\lib\\site-packages\\sqlalchemy\\util\\compat.py\u001b[0m in \u001b[0;36mraise_from_cause\u001b[1;34m(exception, exc_info)\u001b[0m\n\u001b[0;32m    396\u001b[0m     \u001b[0mexc_type\u001b[0m\u001b[1;33m,\u001b[0m \u001b[0mexc_value\u001b[0m\u001b[1;33m,\u001b[0m \u001b[0mexc_tb\u001b[0m \u001b[1;33m=\u001b[0m \u001b[0mexc_info\u001b[0m\u001b[1;33m\u001b[0m\u001b[1;33m\u001b[0m\u001b[0m\n\u001b[0;32m    397\u001b[0m     \u001b[0mcause\u001b[0m \u001b[1;33m=\u001b[0m \u001b[0mexc_value\u001b[0m \u001b[1;32mif\u001b[0m \u001b[0mexc_value\u001b[0m \u001b[1;32mis\u001b[0m \u001b[1;32mnot\u001b[0m \u001b[0mexception\u001b[0m \u001b[1;32melse\u001b[0m \u001b[1;32mNone\u001b[0m\u001b[1;33m\u001b[0m\u001b[1;33m\u001b[0m\u001b[0m\n\u001b[1;32m--> 398\u001b[1;33m     \u001b[0mreraise\u001b[0m\u001b[1;33m(\u001b[0m\u001b[0mtype\u001b[0m\u001b[1;33m(\u001b[0m\u001b[0mexception\u001b[0m\u001b[1;33m)\u001b[0m\u001b[1;33m,\u001b[0m \u001b[0mexception\u001b[0m\u001b[1;33m,\u001b[0m \u001b[0mtb\u001b[0m\u001b[1;33m=\u001b[0m\u001b[0mexc_tb\u001b[0m\u001b[1;33m,\u001b[0m \u001b[0mcause\u001b[0m\u001b[1;33m=\u001b[0m\u001b[0mcause\u001b[0m\u001b[1;33m)\u001b[0m\u001b[1;33m\u001b[0m\u001b[1;33m\u001b[0m\u001b[0m\n\u001b[0m\u001b[0;32m    399\u001b[0m \u001b[1;33m\u001b[0m\u001b[0m\n\u001b[0;32m    400\u001b[0m \u001b[1;33m\u001b[0m\u001b[0m\n",
      "\u001b[1;32m~\\anaconda3\\lib\\site-packages\\sqlalchemy\\util\\compat.py\u001b[0m in \u001b[0;36mreraise\u001b[1;34m(tp, value, tb, cause)\u001b[0m\n\u001b[0;32m    150\u001b[0m             \u001b[0mvalue\u001b[0m\u001b[1;33m.\u001b[0m\u001b[0m__cause__\u001b[0m \u001b[1;33m=\u001b[0m \u001b[0mcause\u001b[0m\u001b[1;33m\u001b[0m\u001b[1;33m\u001b[0m\u001b[0m\n\u001b[0;32m    151\u001b[0m         \u001b[1;32mif\u001b[0m \u001b[0mvalue\u001b[0m\u001b[1;33m.\u001b[0m\u001b[0m__traceback__\u001b[0m \u001b[1;32mis\u001b[0m \u001b[1;32mnot\u001b[0m \u001b[0mtb\u001b[0m\u001b[1;33m:\u001b[0m\u001b[1;33m\u001b[0m\u001b[1;33m\u001b[0m\u001b[0m\n\u001b[1;32m--> 152\u001b[1;33m             \u001b[1;32mraise\u001b[0m \u001b[0mvalue\u001b[0m\u001b[1;33m.\u001b[0m\u001b[0mwith_traceback\u001b[0m\u001b[1;33m(\u001b[0m\u001b[0mtb\u001b[0m\u001b[1;33m)\u001b[0m\u001b[1;33m\u001b[0m\u001b[1;33m\u001b[0m\u001b[0m\n\u001b[0m\u001b[0;32m    153\u001b[0m         \u001b[1;32mraise\u001b[0m \u001b[0mvalue\u001b[0m\u001b[1;33m\u001b[0m\u001b[1;33m\u001b[0m\u001b[0m\n\u001b[0;32m    154\u001b[0m \u001b[1;33m\u001b[0m\u001b[0m\n",
      "\u001b[1;32m~\\anaconda3\\lib\\site-packages\\sqlalchemy\\engine\\base.py\u001b[0m in \u001b[0;36m_execute_context\u001b[1;34m(self, dialect, constructor, statement, parameters, *args)\u001b[0m\n\u001b[0;32m   1224\u001b[0m                 \u001b[1;32mif\u001b[0m \u001b[1;32mnot\u001b[0m \u001b[0mevt_handled\u001b[0m\u001b[1;33m:\u001b[0m\u001b[1;33m\u001b[0m\u001b[1;33m\u001b[0m\u001b[0m\n\u001b[0;32m   1225\u001b[0m                     self.dialect.do_executemany(\n\u001b[1;32m-> 1226\u001b[1;33m                         \u001b[0mcursor\u001b[0m\u001b[1;33m,\u001b[0m \u001b[0mstatement\u001b[0m\u001b[1;33m,\u001b[0m \u001b[0mparameters\u001b[0m\u001b[1;33m,\u001b[0m \u001b[0mcontext\u001b[0m\u001b[1;33m\u001b[0m\u001b[1;33m\u001b[0m\u001b[0m\n\u001b[0m\u001b[0;32m   1227\u001b[0m                     )\n\u001b[0;32m   1228\u001b[0m             \u001b[1;32melif\u001b[0m \u001b[1;32mnot\u001b[0m \u001b[0mparameters\u001b[0m \u001b[1;32mand\u001b[0m \u001b[0mcontext\u001b[0m\u001b[1;33m.\u001b[0m\u001b[0mno_parameters\u001b[0m\u001b[1;33m:\u001b[0m\u001b[1;33m\u001b[0m\u001b[1;33m\u001b[0m\u001b[0m\n",
      "\u001b[1;32m~\\anaconda3\\lib\\site-packages\\sqlalchemy\\dialects\\postgresql\\psycopg2.py\u001b[0m in \u001b[0;36mdo_executemany\u001b[1;34m(self, cursor, statement, parameters, context)\u001b[0m\n\u001b[0;32m    852\u001b[0m     \u001b[1;32mdef\u001b[0m \u001b[0mdo_executemany\u001b[0m\u001b[1;33m(\u001b[0m\u001b[0mself\u001b[0m\u001b[1;33m,\u001b[0m \u001b[0mcursor\u001b[0m\u001b[1;33m,\u001b[0m \u001b[0mstatement\u001b[0m\u001b[1;33m,\u001b[0m \u001b[0mparameters\u001b[0m\u001b[1;33m,\u001b[0m \u001b[0mcontext\u001b[0m\u001b[1;33m=\u001b[0m\u001b[1;32mNone\u001b[0m\u001b[1;33m)\u001b[0m\u001b[1;33m:\u001b[0m\u001b[1;33m\u001b[0m\u001b[1;33m\u001b[0m\u001b[0m\n\u001b[0;32m    853\u001b[0m         \u001b[1;32mif\u001b[0m \u001b[0mself\u001b[0m\u001b[1;33m.\u001b[0m\u001b[0mexecutemany_mode\u001b[0m \u001b[1;32mis\u001b[0m \u001b[0mEXECUTEMANY_DEFAULT\u001b[0m\u001b[1;33m:\u001b[0m\u001b[1;33m\u001b[0m\u001b[1;33m\u001b[0m\u001b[0m\n\u001b[1;32m--> 854\u001b[1;33m             \u001b[0mcursor\u001b[0m\u001b[1;33m.\u001b[0m\u001b[0mexecutemany\u001b[0m\u001b[1;33m(\u001b[0m\u001b[0mstatement\u001b[0m\u001b[1;33m,\u001b[0m \u001b[0mparameters\u001b[0m\u001b[1;33m)\u001b[0m\u001b[1;33m\u001b[0m\u001b[1;33m\u001b[0m\u001b[0m\n\u001b[0m\u001b[0;32m    855\u001b[0m             \u001b[1;32mreturn\u001b[0m\u001b[1;33m\u001b[0m\u001b[1;33m\u001b[0m\u001b[0m\n\u001b[0;32m    856\u001b[0m \u001b[1;33m\u001b[0m\u001b[0m\n",
      "\u001b[1;31mProgrammingError\u001b[0m: (psycopg2.errors.UndefinedColumn) column \"MaleAllAgesVote\" of relation \"imdb_ratings\" does not exist\nLINE 1: INSERT INTO imdb_ratings (imdb_title_id, \"MaleAllAgesVote\", ...\n                                                 ^\n\n[SQL: INSERT INTO imdb_ratings (imdb_title_id, \"MaleAllAgesVote\", \"MaleAvgVote0_18\", \"MaleAvgVote18_30\", \"MaleAvgVote30_45\", \"MaleAvgVote45_above\", \"FemalesAllAgesVote\", \"FemalesAvgVote0_18\", \"FemalesAvgVote18_30\", \"FemalesAvgVote30_45\", \"FemalesAvgVote45_above\") VALUES (%(imdb_title_id)s, %(MaleAllAgesVote)s, %(MaleAvgVote0_18)s, %(MaleAvgVote18_30)s, %(MaleAvgVote30_45)s, %(MaleAvgVote45_above)s, %(FemalesAllAgesVote)s, %(FemalesAvgVote0_18)s, %(FemalesAvgVote18_30)s, %(FemalesAvgVote30_45)s, %(FemalesAvgVote45_above)s)]\n[parameters: ({'imdb_title_id': 'tt0000009', 'MaleAllAgesVote': 6.2, 'MaleAvgVote0_18': 7.0, 'MaleAvgVote18_30': 5.9, 'MaleAvgVote30_45': 5.6, 'MaleAvgVote45_above': 6.7, 'FemalesAllAgesVote': 6.0, 'FemalesAvgVote0_18': 7.3, 'FemalesAvgVote18_30': 5.9, 'FemalesAvgVote30_45': 5.7, 'FemalesAvgVote45_above': 4.5}, {'imdb_title_id': 'tt0002130', 'MaleAllAgesVote': 7.0, 'MaleAvgVote0_18': 8.0, 'MaleAvgVote18_30': 7.0, 'MaleAvgVote30_45': 7.0, 'MaleAvgVote45_above': 7.0, 'FemalesAllAgesVote': 7.2, 'FemalesAvgVote0_18': 7.0, 'FemalesAvgVote18_30': 7.0, 'FemalesAvgVote30_45': 7.3, 'FemalesAvgVote45_above': 7.4}, {'imdb_title_id': 'tt0003740', 'MaleAllAgesVote': 7.1, 'MaleAvgVote0_18': 6.0, 'MaleAvgVote18_30': 7.0, 'MaleAvgVote30_45': 7.0, 'MaleAvgVote45_above': 7.3, 'FemalesAllAgesVote': 6.9, 'FemalesAvgVote0_18': 6.0, 'FemalesAvgVote18_30': 6.8, 'FemalesAvgVote30_45': 6.9, 'FemalesAvgVote45_above': 6.8}, {'imdb_title_id': 'tt0004972', 'MaleAllAgesVote': 6.4, 'MaleAvgVote0_18': 4.7, 'MaleAvgVote18_30': 6.1, 'MaleAvgVote30_45': 6.4, 'MaleAvgVote45_above': 6.8, 'FemalesAllAgesVote': 5.7, 'FemalesAvgVote0_18': 6.0, 'FemalesAvgVote18_30': 5.4, 'FemalesAvgVote30_45': 5.8, 'FemalesAvgVote45_above': 5.9}, {'imdb_title_id': 'tt0005680', 'MaleAllAgesVote': 5.9, 'MaleAvgVote0_18': 5.0, 'MaleAvgVote18_30': 5.8, 'MaleAvgVote30_45': 5.8, 'MaleAvgVote45_above': 6.0, 'FemalesAllAgesVote': 5.9, 'FemalesAvgVote0_18': 5.0, 'FemalesAvgVote18_30': 5.5, 'FemalesAvgVote30_45': 6.5, 'FemalesAvgVote45_above': 6.2}, {'imdb_title_id': 'tt0006206', 'MaleAllAgesVote': 7.3, 'MaleAvgVote0_18': 6.8, 'MaleAvgVote18_30': 7.1, 'MaleAvgVote30_45': 7.3, 'MaleAvgVote45_above': 7.3, 'FemalesAllAgesVote': 7.2, 'FemalesAvgVote0_18': 4.0, 'FemalesAvgVote18_30': 6.9, 'FemalesAvgVote30_45': 7.1, 'FemalesAvgVote45_above': 7.7}, {'imdb_title_id': 'tt0006864', 'MaleAllAgesVote': 7.8, 'MaleAvgVote0_18': 8.0, 'MaleAvgVote18_30': 7.9, 'MaleAvgVote30_45': 7.7, 'MaleAvgVote45_above': 7.8, 'FemalesAllAgesVote': 7.5, 'FemalesAvgVote0_18': 7.0, 'FemalesAvgVote18_30': 7.2, 'FemalesAvgVote30_45': 7.4, 'FemalesAvgVote45_above': 8.0}, {'imdb_title_id': 'tt0009611', 'MaleAllAgesVote': 7.3, 'MaleAvgVote0_18': 4.7, 'MaleAvgVote18_30': 7.3, 'MaleAvgVote30_45': 7.3, 'MaleAvgVote45_above': 7.3, 'FemalesAllAgesVote': 7.4, 'FemalesAvgVote0_18': 6.0, 'FemalesAvgVote18_30': 7.4, 'FemalesAvgVote30_45': 7.3, 'FemalesAvgVote45_above': 7.6}  ... displaying 10 of 16993 total bound parameter sets ...  {'imdb_title_id': 'tt9894394', 'MaleAllAgesVote': 7.4, 'MaleAvgVote0_18': 8.6, 'MaleAvgVote18_30': 6.3, 'MaleAvgVote30_45': 8.1, 'MaleAvgVote45_above': 2.6, 'FemalesAllAgesVote': 6.8, 'FemalesAvgVote0_18': 10.0, 'FemalesAvgVote18_30': 6.1, 'FemalesAvgVote30_45': 9.6, 'FemalesAvgVote45_above': 4.8}, {'imdb_title_id': 'tt9898858', 'MaleAllAgesVote': 5.1, 'MaleAvgVote0_18': 5.1, 'MaleAvgVote18_30': 5.1, 'MaleAvgVote30_45': 5.1, 'MaleAvgVote45_above': 4.9, 'FemalesAllAgesVote': 5.1, 'FemalesAvgVote0_18': 6.0, 'FemalesAvgVote18_30': 5.4, 'FemalesAvgVote30_45': 5.0, 'FemalesAvgVote45_above': 5.0})]\n(Background on this error at: http://sqlalche.me/e/f405)"
     ]
    }
   ],
   "source": [
    "new_imdb_data_df.to_sql(name='imdb_ratings', con=engine, if_exists='append', index=False)"
   ]
  },
  {
   "cell_type": "markdown",
   "metadata": {},
   "source": [
    "### Confirm data has been added by querying the customer_name table\n",
    "* NOTE: can also check using pgAdmin"
   ]
  },
  {
   "cell_type": "code",
   "execution_count": 12,
   "metadata": {},
   "outputs": [
    {
     "data": {
      "text/html": [
       "<div>\n",
       "<style scoped>\n",
       "    .dataframe tbody tr th:only-of-type {\n",
       "        vertical-align: middle;\n",
       "    }\n",
       "\n",
       "    .dataframe tbody tr th {\n",
       "        vertical-align: top;\n",
       "    }\n",
       "\n",
       "    .dataframe thead th {\n",
       "        text-align: right;\n",
       "    }\n",
       "</style>\n",
       "<table border=\"1\" class=\"dataframe\">\n",
       "  <thead>\n",
       "    <tr style=\"text-align: right;\">\n",
       "      <th></th>\n",
       "      <th>id</th>\n",
       "      <th>first_name</th>\n",
       "      <th>last_name</th>\n",
       "    </tr>\n",
       "  </thead>\n",
       "  <tbody>\n",
       "    <tr>\n",
       "      <th>0</th>\n",
       "      <td>1</td>\n",
       "      <td>Benetta</td>\n",
       "      <td>Cancott</td>\n",
       "    </tr>\n",
       "    <tr>\n",
       "      <th>1</th>\n",
       "      <td>2</td>\n",
       "      <td>Lilyan</td>\n",
       "      <td>Cherry</td>\n",
       "    </tr>\n",
       "    <tr>\n",
       "      <th>2</th>\n",
       "      <td>3</td>\n",
       "      <td>Ezekiel</td>\n",
       "      <td>Benasik</td>\n",
       "    </tr>\n",
       "    <tr>\n",
       "      <th>3</th>\n",
       "      <td>4</td>\n",
       "      <td>Kennedy</td>\n",
       "      <td>Atlay</td>\n",
       "    </tr>\n",
       "    <tr>\n",
       "      <th>4</th>\n",
       "      <td>5</td>\n",
       "      <td>Sanford</td>\n",
       "      <td>Salmen</td>\n",
       "    </tr>\n",
       "  </tbody>\n",
       "</table>\n",
       "</div>"
      ],
      "text/plain": [
       "   id first_name last_name\n",
       "0   1    Benetta   Cancott\n",
       "1   2     Lilyan    Cherry\n",
       "2   3    Ezekiel   Benasik\n",
       "3   4    Kennedy     Atlay\n",
       "4   5    Sanford    Salmen"
      ]
     },
     "execution_count": 12,
     "metadata": {},
     "output_type": "execute_result"
    }
   ],
   "source": [
    "pd.read_sql_query('select * from customer_name', con=engine).head()"
   ]
  },
  {
   "cell_type": "markdown",
   "metadata": {},
   "source": [
    "### Confirm data has been added by querying the customer_location table"
   ]
  },
  {
   "cell_type": "code",
   "execution_count": 13,
   "metadata": {},
   "outputs": [
    {
     "data": {
      "text/html": [
       "<div>\n",
       "<style scoped>\n",
       "    .dataframe tbody tr th:only-of-type {\n",
       "        vertical-align: middle;\n",
       "    }\n",
       "\n",
       "    .dataframe tbody tr th {\n",
       "        vertical-align: top;\n",
       "    }\n",
       "\n",
       "    .dataframe thead th {\n",
       "        text-align: right;\n",
       "    }\n",
       "</style>\n",
       "<table border=\"1\" class=\"dataframe\">\n",
       "  <thead>\n",
       "    <tr style=\"text-align: right;\">\n",
       "      <th></th>\n",
       "      <th>id</th>\n",
       "      <th>address</th>\n",
       "      <th>us_state</th>\n",
       "    </tr>\n",
       "  </thead>\n",
       "  <tbody>\n",
       "    <tr>\n",
       "      <th>0</th>\n",
       "      <td>1</td>\n",
       "      <td>043 Mockingbird Place</td>\n",
       "      <td>Indiana</td>\n",
       "    </tr>\n",
       "    <tr>\n",
       "      <th>1</th>\n",
       "      <td>2</td>\n",
       "      <td>4 Prentice Point</td>\n",
       "      <td>Indiana</td>\n",
       "    </tr>\n",
       "    <tr>\n",
       "      <th>2</th>\n",
       "      <td>3</td>\n",
       "      <td>46 Derek Junction</td>\n",
       "      <td>Texas</td>\n",
       "    </tr>\n",
       "    <tr>\n",
       "      <th>3</th>\n",
       "      <td>4</td>\n",
       "      <td>11966 Old Shore Place</td>\n",
       "      <td>Missouri</td>\n",
       "    </tr>\n",
       "    <tr>\n",
       "      <th>4</th>\n",
       "      <td>5</td>\n",
       "      <td>5 Evergreen Circle</td>\n",
       "      <td>New York</td>\n",
       "    </tr>\n",
       "  </tbody>\n",
       "</table>\n",
       "</div>"
      ],
      "text/plain": [
       "   id                address  us_state\n",
       "0   1  043 Mockingbird Place   Indiana\n",
       "1   2       4 Prentice Point   Indiana\n",
       "2   3      46 Derek Junction     Texas\n",
       "3   4  11966 Old Shore Place  Missouri\n",
       "4   5     5 Evergreen Circle  New York"
      ]
     },
     "execution_count": 13,
     "metadata": {},
     "output_type": "execute_result"
    }
   ],
   "source": [
    "pd.read_sql_query('select * from customer_location', con=engine).head()"
   ]
  },
  {
   "cell_type": "code",
   "execution_count": null,
   "metadata": {},
   "outputs": [],
   "source": []
  }
 ],
 "metadata": {
  "kernelspec": {
   "name": "pythondata2",
   "display_name": "pythonData2",
   "language": "python"
  },
  "language_info": {
   "codemirror_mode": {
    "name": "ipython",
    "version": 3
   },
   "file_extension": ".py",
   "mimetype": "text/x-python",
   "name": "python",
   "nbconvert_exporter": "python",
   "pygments_lexer": "ipython3",
   "version": "3.7.6-final"
  },
  "nteract": {
   "version": "0.12.3"
  }
 },
 "nbformat": 4,
 "nbformat_minor": 2
}